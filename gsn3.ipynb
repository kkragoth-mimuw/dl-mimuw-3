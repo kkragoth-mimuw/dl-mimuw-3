{
 "cells": [
  {
   "cell_type": "markdown",
   "metadata": {},
   "source": [
    "# Part 1"
   ]
  },
  {
   "cell_type": "code",
   "execution_count": 1,
   "metadata": {},
   "outputs": [
    {
     "name": "stdout",
     "output_type": "stream",
     "text": [
      "[[7.0, 6.0], [8.0, 5.0], [9.0, 4.0], [8.0, 5.0], [9.0, 6.0]]\n",
      "[[7.0, 3.0], [6.0, 2.0], [5.0, 3.0], [4.0, 2.0], [3.0, 3.0]]\n",
      "[[4.0, 8.0], [5.0, 7.0], [6.0, 6.0], [7.0, 5.0], [8.0, 4.0]]\n",
      "[[6.0, 9.0], [5.0, 8.0], [6.0, 7.0], [5.0, 8.0], [4.0, 7.0]]\n"
     ]
    }
   ],
   "source": [
    "import csv\n",
    "\n",
    "train_x = []\n",
    "with open('data/train_x.csv') as csvfile:\n",
    "    train_x = list(csv.reader(csvfile))\n",
    "    \n",
    "train_x = list(map(lambda x: list(map(lambda y: list(map(float, y.split('-'))), x)), train_x)) \n",
    "\n",
    "train_y = []\n",
    "with open('data/train_y.csv') as csvfile:\n",
    "    train_y = list(map(int, sum(list(csv.reader(csvfile)), [])))\n",
    "\n",
    "    \n",
    "test_x = []\n",
    "with open('data/test_x.csv') as csvfile:\n",
    "    test_x = list(csv.reader(csvfile))\n",
    "    \n",
    "test_x = list(map(lambda x: list(map(lambda y: list(map(float, y.split('-'))), x)), test_x)) \n",
    "\n",
    "test_y = []\n",
    "with open('data/test_y.csv') as csvfile:\n",
    "    test_y = list(map(int, sum(list(csv.reader(csvfile)), [])))\n",
    "    \n",
    "train_x\n",
    "train_y\n",
    "\n",
    "first_indexes_of_class = [(k, train_y.index(k)) for k in sorted(set(train_y))]\n",
    "first_indexes_of_class\n",
    "\n",
    "for (k, v) in first_indexes_of_class:\n",
    "    print(train_x[v])"
   ]
  },
  {
   "cell_type": "code",
   "execution_count": 2,
   "metadata": {},
   "outputs": [
    {
     "data": {
      "text/plain": [
       "[3.0, 8.0]"
      ]
     },
     "execution_count": 2,
     "metadata": {},
     "output_type": "execute_result"
    }
   ],
   "source": [
    "x = '3-8'\n",
    "list(map(float, x.split('-')))"
   ]
  },
  {
   "cell_type": "code",
   "execution_count": 3,
   "metadata": {},
   "outputs": [
    {
     "data": {
      "image/png": "[encoded data removed]",
      "text/plain": [
       "<Figure size 432x288 with 1 Axes>"
      ]
     },
     "metadata": {
      "needs_background": "light"
     },
     "output_type": "display_data"
    }
   ],
   "source": [
    "import matplotlib.pyplot as plt\n",
    "import matplotlib.animation as animation\n",
    "\n",
    "colors = ['r', 'g', 'b', 'y']\n",
    "for i in range(len(train_x[0])):\n",
    "    for (k, v) in first_indexes_of_class:\n",
    "        x = list(map(lambda x: x[0], train_x[v]))[i]\n",
    "        y = list(map(lambda x: x[1], train_x[v]))[i]\n",
    "        plt.ylim(0, 10)\n",
    "        plt.xlim(0, 10)\n",
    "        plt.scatter(x, y, c=colors[k])\n",
    "        filename='imgs/step'+str(i)+'.png'\n",
    "        plt.savefig(filename, dpi=96)"
   ]
  },
  {
   "cell_type": "markdown",
   "metadata": {},
   "source": [
    "// convert -delay 80 *.png animated_walk.gif"
   ]
  },
  {
   "cell_type": "markdown",
   "metadata": {},
   "source": [
    "<img src=\"imgs/animated_walk.gif\" width=\"750\" align=\"center\">\n"
   ]
  },
  {
   "cell_type": "code",
   "execution_count": 14,
   "metadata": {},
   "outputs": [
    {
     "data": {
      "text/plain": [
       "tensor([[7., 6.]])"
      ]
     },
     "execution_count": 14,
     "metadata": {},
     "output_type": "execute_result"
    }
   ],
   "source": [
    "import torch\n",
    "\n",
    "train_x_tensor = list(map(torch.tensor, train_x))\n",
    "train_y_tensor = torch.tensor(train_y)\n",
    "test_x_tensor = list(map(torch.tensor, test_x))\n",
    "test_y_tensor = torch.tensor(test_y)\n",
    "\n",
    "train_x_tensor[0][0].unsqueeze(0)\n"
   ]
  },
  {
   "cell_type": "markdown",
   "metadata": {},
   "source": [
    "# Part 2"
   ]
  },
  {
   "cell_type": "code",
   "execution_count": 17,
   "metadata": {},
   "outputs": [
    {
     "name": "stdout",
     "output_type": "stream",
     "text": [
      "Sanity check\n",
      "test output\n",
      "tensor([[ 0.0546,  0.0526, -0.1477, -0.1951],\n",
      "        [-0.1265,  0.0336, -0.1225, -0.3033],\n",
      "        [-0.1539,  0.1204, -0.1984, -0.3383],\n",
      "        [-0.0570,  0.0927, -0.1143, -0.2573],\n",
      "        [-0.0825,  0.1006, -0.1194, -0.2566]], grad_fn=<AddmmBackward>)\n",
      "tensor(-0.0800, grad_fn=<NllLossBackward>)\n",
      "1\n"
     ]
    }
   ],
   "source": [
    "import torch\n",
    "import torch.nn as nn\n",
    "import torch.nn.functional as F\n",
    "\n",
    "class RNNClassifier(nn.Module):\n",
    "    def __init__(self, input_size, hidden_size, output_size, n_layers=1):\n",
    "        super(RNNClassifier, self).__init__()\n",
    "        \n",
    "        self.rnn = nn.RNN(input_size=input_size, hidden_size=hidden_size, num_layers=n_layers)\n",
    "        self.fc = nn.Linear(hidden_size, 32)\n",
    "        self.fc2 = nn.Linear(32, output_size)\n",
    "        \n",
    "    def forward(self, sequence):\n",
    "        output, _ = self.rnn(sequence.view(len(sequence), 1, -1))\n",
    "        tag_space = self.fc2(self.fc(output.view(len(sequence), -1)))\n",
    "        return tag_space\n",
    "\n",
    "    \n",
    "classifier = RNNClassifier(2, 16, 4, n_layers=2)\n",
    "\n",
    "print(\"Sanity check\")\n",
    "test_output = classifier(train_x_tensor[0])\n",
    "print('test output')\n",
    "print(test_output)\n",
    "test_loss_function = nn.NLLLoss()\n",
    "loss = test_loss_function(test_output,\n",
    "                          torch.tensor([1,1,1,1,1]))\n",
    "print(loss)\n",
    "\n",
    "output = torch.argmax(test_output[-1])\n",
    "print(output.item())"
   ]
  },
  {
   "cell_type": "code",
   "execution_count": 19,
   "metadata": {},
   "outputs": [
    {
     "name": "stdout",
     "output_type": "stream",
     "text": [
      "Epoch 1\n",
      "0 iteration, loss_for_item: 1.7063796520233154\n",
      "4000 iteration, loss_for_item: 1.4302397966384888\n",
      "8000 iteration, loss_for_item: 1.460371494293213\n",
      "Accuracy test:  0.435\n",
      "Epoch 2\n",
      "0 iteration, loss_for_item: 1.2604193687438965\n",
      "4000 iteration, loss_for_item: 1.2244865894317627\n",
      "8000 iteration, loss_for_item: 1.4706571102142334\n",
      "Accuracy test:  0.509\n",
      "Epoch 3\n",
      "0 iteration, loss_for_item: 1.1528326272964478\n",
      "4000 iteration, loss_for_item: 1.1407209634780884\n",
      "8000 iteration, loss_for_item: 1.4299938678741455\n",
      "Accuracy test:  0.541\n",
      "Epoch 4\n",
      "0 iteration, loss_for_item: 1.1102242469787598\n",
      "4000 iteration, loss_for_item: 1.1139764785766602\n",
      "8000 iteration, loss_for_item: 1.3477251529693604\n",
      "Accuracy test:  0.562\n",
      "Epoch 5\n",
      "0 iteration, loss_for_item: 1.0834349393844604\n",
      "4000 iteration, loss_for_item: 1.0935229063034058\n",
      "8000 iteration, loss_for_item: 1.2059314250946045\n",
      "Accuracy test:  0.588\n",
      "Epoch 6\n",
      "0 iteration, loss_for_item: 1.0958333015441895\n",
      "4000 iteration, loss_for_item: 1.0028369426727295\n",
      "8000 iteration, loss_for_item: 1.143469214439392\n",
      "Accuracy test:  0.61\n",
      "Epoch 7\n",
      "0 iteration, loss_for_item: 1.1821666955947876\n",
      "4000 iteration, loss_for_item: 0.9660865664482117\n",
      "8000 iteration, loss_for_item: 1.1015644073486328\n",
      "Accuracy test:  0.639\n",
      "Epoch 8\n",
      "0 iteration, loss_for_item: 1.4651416540145874\n",
      "4000 iteration, loss_for_item: 1.0275235176086426\n",
      "8000 iteration, loss_for_item: 1.0018227100372314\n",
      "Accuracy test:  0.648\n",
      "Epoch 9\n",
      "0 iteration, loss_for_item: 1.7896687984466553\n",
      "4000 iteration, loss_for_item: 1.102325439453125\n",
      "8000 iteration, loss_for_item: 0.9302510023117065\n",
      "Accuracy test:  0.652\n",
      "Accuracy reached 0.65; break\n"
     ]
    }
   ],
   "source": [
    "base_model = RNNClassifier(2, 16, 4, n_layers=2)\n",
    "base_loss_function = nn.CrossEntropyLoss()\n",
    "base_optimizer = torch.optim.SGD(base_model.parameters(), lr=0.001)\n",
    "\n",
    "for epoch in range(30):\n",
    "    loss = 0\n",
    "    print(f\"Epoch {epoch+1}\")\n",
    "    \n",
    "    for i in range(len(train_x_tensor)):\n",
    "        data_input = train_x_tensor[i]\n",
    "        target = torch.tensor([train_y[i] for _ in range(5)])\n",
    "        \n",
    "        if epoch == 0:\n",
    "            data_input = data_input[1:] if i % 2 == 0 else data_input[:-1]\n",
    "            target = torch.tensor([train_y[i] for _ in range(4)])\n",
    "        \n",
    "            \n",
    "        tag_scores = base_model(data_input)\n",
    "        base_optimizer.zero_grad()\n",
    "        \n",
    "        loss = base_loss_function(tag_scores,target)\n",
    "        \n",
    "        if i % 4000 == 0:\n",
    "            print(f\"{i} iteration, loss_for_item: {loss}\")\n",
    "            \n",
    "        loss.backward()\n",
    "        base_optimizer.step()\n",
    "    \n",
    "    with torch.no_grad():\n",
    "        correct = 0\n",
    "\n",
    "        for i in range(len(test_x_tensor)):\n",
    "            tag_scores = base_model(test_x_tensor[i])\n",
    "            predicted = torch.argmax(tag_scores[-1]).item()\n",
    "            target = test_y[i]\n",
    "            \n",
    "            if predicted == target:\n",
    "                correct += 1\n",
    "        \n",
    "        accuracy_test = correct/len(test_x_tensor)\n",
    "                \n",
    "        print(f\"Accuracy test:  {accuracy_test}\")\n",
    "        \n",
    "        if accuracy_test > 0.65:\n",
    "            print(\"Accuracy reached 0.65; break\")\n",
    "            break\n",
    "        "
   ]
  },
  {
   "cell_type": "markdown",
   "metadata": {},
   "source": [
    "# Part 3"
   ]
  },
  {
   "cell_type": "code",
   "execution_count": 4,
   "metadata": {},
   "outputs": [
    {
     "name": "stdout",
     "output_type": "stream",
     "text": [
      "{(7, 6): 60, (8, 5): 49, (9, 4): 70, (9, 6): 92, (7, 3): 65, (6, 2): 4, (5, 3): 25, (4, 2): 95, (3, 3): 69, (6, 9): 13, (5, 8): 66, (6, 7): 72, (4, 7): 61, (4, 4): 99, (3, 5): 24, (3, 7): 93, (2, 8): 82, (1, 7): 64, (0, 9): 52, (1, 8): 53, (0, 7): 27, (8, 4): 5, (9, 3): 88, (8, 2): 33, (8, 3): 86, (7, 4): 15, (4, 8): 51, (5, 7): 97, (6, 6): 6, (7, 5): 90, (0, 2): 8, (1, 1): 21, (0, 0): 94, (7, 1): 31, (6, 0): 59, (5, 1): 87, (4, 0): 41, (3, 1): 2, (2, 2): 35, (5, 2): 46, (4, 3): 48, (5, 4): 7, (6, 5): 96, (3, 6): 20, (2, 7): 73, (3, 8): 40, (3, 0): 63, (4, 1): 18, (5, 0): 54, (6, 1): 34, (7, 2): 30, (9, 2): 11, (6, 3): 9, (9, 5): 1, (9, 7): 71, (8, 8): 12, (9, 9): 42, (4, 6): 26, (5, 5): 16, (6, 4): 75, (8, 6): 56, (3, 4): 89, (2, 5): 80, (1, 6): 83, (4, 9): 10, (7, 8): 91, (8, 9): 32, (9, 8): 58, (8, 7): 50, (2, 9): 62, (2, 6): 45, (2, 4): 57, (0, 3): 74, (1, 2): 28, (1, 4): 23, (0, 5): 76, (9, 1): 14, (5, 6): 78, (4, 5): 38, (8, 0): 19, (7, 7): 77, (1, 5): 85, (3, 9): 3, (5, 9): 17, (9, 0): 68, (8, 1): 84, (7, 0): 37, (2, 1): 39, (1, 0): 47, (0, 1): 81, (6, 8): 79, (7, 9): 0, (2, 0): 67, (3, 2): 44, (1, 3): 36, (2, 3): 29, (1, 9): 55, (0, 6): 43, (0, 4): 98, (0, 8): 22}\n"
     ]
    }
   ],
   "source": [
    "import random\n",
    "\n",
    "random_mapping = {}\n",
    "\n",
    "def generate_random_mapping_for_entry(entry):\n",
    "    if random_mapping.get(entry) is not None:\n",
    "        return\n",
    "    \n",
    "    while True:\n",
    "        suggested_entry = random.randint(0, 99)\n",
    "        \n",
    "        if suggested_entry in random_mapping.values():\n",
    "            continue\n",
    "            \n",
    "        random_mapping[entry] = suggested_entry\n",
    "        return\n",
    "    \n",
    "for sequence in train_x + test_x:\n",
    "    for node in sequence:\n",
    "        generate_random_mapping_for_entry((int(node[0]), int(node[1])))\n",
    "    \n",
    "print(random_mapping)\n",
    "        "
   ]
  },
  {
   "cell_type": "code",
   "execution_count": 5,
   "metadata": {},
   "outputs": [
    {
     "data": {
      "text/plain": [
       "tensor([[60, 49, 70, 49, 92],\n",
       "        [65,  4, 25, 95, 69],\n",
       "        [13, 66, 72, 66, 61],\n",
       "        ...,\n",
       "        [90,  6, 97, 51,  3],\n",
       "        [26, 93, 45, 85, 57],\n",
       "        [67, 21, 35, 21,  8]])"
      ]
     },
     "execution_count": 5,
     "metadata": {},
     "output_type": "execute_result"
    }
   ],
   "source": [
    "train_x_embedded_input = torch.tensor([list(map(lambda x: random_mapping[(x[0], x[1])], sequence)) for sequence in train_x])\n",
    "test_x_embedded_input = torch.tensor([list(map(lambda x: random_mapping[(x[0], x[1])], sequence)) for sequence in test_x])\n",
    "train_x_embedded_input"
   ]
  },
  {
   "cell_type": "code",
   "execution_count": 6,
   "metadata": {},
   "outputs": [
    {
     "name": "stdout",
     "output_type": "stream",
     "text": [
      "Sanity check\n",
      "Embeds torch.Size([5, 2])\n",
      "tensor([[-2.4630, -0.1817],\n",
      "        [ 0.6813,  1.2632],\n",
      "        [ 0.8127,  0.0718],\n",
      "        [ 0.6813,  1.2632],\n",
      "        [-1.7003,  1.0058]], grad_fn=<EmbeddingBackward>)\n",
      "test output\n",
      "tensor([[ 0.0493, -0.0240,  0.2718,  0.2054],\n",
      "        [ 0.0143,  0.0059,  0.3272,  0.2290],\n",
      "        [-0.0168,  0.0351,  0.3411,  0.2685],\n",
      "        [-0.0388,  0.0664,  0.3558,  0.2722],\n",
      "        [-0.0261,  0.0412,  0.3901,  0.2286]], grad_fn=<AddmmBackward>)\n",
      "tensor(-0.0249, grad_fn=<NllLossBackward>)\n",
      "2\n"
     ]
    }
   ],
   "source": [
    "import torch\n",
    "import torch.nn as nn\n",
    "import torch.nn.functional as F\n",
    "\n",
    "class EmbeddedRNNClassifier(nn.Module):\n",
    "    def __init__(self, input_size, hidden_size, output_size, vocab_size=100, embedding_dim=2, n_layers=1, debug=False, fc_layers=64):\n",
    "        super(EmbeddedRNNClassifier, self).__init__()\n",
    "        \n",
    "        self.debug = debug\n",
    "        self.word_embeddings = nn.Embedding(vocab_size, embedding_dim)\n",
    "        \n",
    "        self.rnn = nn.GRU(input_size=embedding_dim, hidden_size=hidden_size, num_layers=n_layers)\n",
    "        self.fc = nn.Linear(hidden_size, output_size)\n",
    "        \n",
    "    def forward(self, sequence):\n",
    "        embeds = self.word_embeddings(sequence)\n",
    "        \n",
    "        if self.debug:\n",
    "            print(f\"Embeds {embeds.shape}\")\n",
    "            print(embeds)\n",
    "        output, _ = self.rnn(embeds.view(len(sequence), 1, -1))\n",
    "        tag_space = self.fc(output.view(len(sequence), -1))\n",
    "        return tag_space\n",
    "    \n",
    "    def get_word_embeddings(self):\n",
    "        return self.word_embeddings\n",
    "\n",
    "    \n",
    "classifier = EmbeddedRNNClassifier(1, 16, 4, n_layers=2, debug=True)\n",
    "\n",
    "print(\"Sanity check\")\n",
    "test_output = classifier(train_x_embedded_input[0])\n",
    "print('test output')\n",
    "print(test_output)\n",
    "test_loss_function = nn.NLLLoss()\n",
    "loss = test_loss_function(test_output,\n",
    "                          torch.tensor([1,1,1,1,1]))\n",
    "print(loss)\n",
    "\n",
    "output = torch.argmax(test_output[-1])\n",
    "print(output.item())"
   ]
  },
  {
   "cell_type": "code",
   "execution_count": 9,
   "metadata": {},
   "outputs": [
    {
     "name": "stdout",
     "output_type": "stream",
     "text": [
      "Running...\n",
      "Epoch 1 Accuracy test:  0.248\n",
      "Epoch 2 Accuracy test:  0.248\n",
      "Epoch 3 Accuracy test:  0.248\n",
      "Epoch 4 Accuracy test:  0.248\n",
      "Epoch 5 Accuracy test:  0.251\n",
      "Epoch 6 Accuracy test:  0.291\n",
      "Epoch 7 Accuracy test:  0.317\n",
      "Epoch 8 Accuracy test:  0.341\n",
      "Epoch 9 Accuracy test:  0.357\n",
      "Epoch 10 Accuracy test:  0.367\n",
      "Epoch 11 Accuracy test:  0.399\n",
      "Epoch 12 Accuracy test:  0.392\n",
      "Epoch 13 Accuracy test:  0.398\n",
      "Epoch 14 Accuracy test:  0.395\n",
      "Epoch 15 Accuracy test:  0.39\n",
      "Epoch 16 Accuracy test:  0.472\n",
      "Epoch 17 Accuracy test:  0.488\n",
      "Epoch 18 Accuracy test:  0.51\n",
      "Epoch 19 Accuracy test:  0.544\n",
      "Epoch 20 Accuracy test:  0.566\n",
      "Epoch 21 Accuracy test:  0.588\n",
      "Epoch 22 Accuracy test:  0.599\n",
      "Epoch 23 Accuracy test:  0.597\n",
      "Epoch 24 Accuracy test:  0.622\n",
      "Epoch 25 Accuracy test:  0.634\n",
      "Epoch 26 Accuracy test:  0.64\n",
      "Epoch 27 Accuracy test:  0.64\n",
      "Epoch 28 Accuracy test:  0.644\n",
      "Epoch 29 Accuracy test:  0.646\n",
      "Epoch 30 Accuracy test:  0.642\n",
      "Epoch 31 Accuracy test:  0.657\n",
      "Accuracy reached 0.65; break\n"
     ]
    }
   ],
   "source": [
    "device = torch.device('cuda') if torch.cuda.is_available() else torch.device('cpu')\n",
    "\n",
    "model = EmbeddedRNNClassifier(1, 64, 4, embedding_dim=2, n_layers=4)\n",
    "model.to(device)\n",
    "loss_function = nn.CrossEntropyLoss()\n",
    "optimizer = torch.optim.SGD(model.parameters(), lr=0.1)\n",
    "scheduler = torch.optim.lr_scheduler.StepLR(optimizer, step_size=15, gamma=0.1)\n",
    "\n",
    "points_to_embed = [(0, 1), (1, 0), (6, 8), (7, 9)]\n",
    "embeddings = {}\n",
    "\n",
    "for point in points_to_embed:\n",
    "    embeddings[point] = {\"x\": [], \"y\":[]}\n",
    "\n",
    "    \n",
    "print(\"Running...\")\n",
    "\n",
    "train_x_embedded_input_tensor = train_x_embedded_input.to(device)\n",
    "test_x_embedded_input_tensor = test_x_embedded_input.to(device)\n",
    "train_y_tensor = torch.tensor([[train_y[i] for _ in range(5)] for i in range(len(train_y))]).to(device)\n",
    "test_y_tensor = torch.tensor([[train_y[i] for _ in range(5)] for i in range(len(test_y))]).to(device)\n",
    "\n",
    "for epoch in range(100):\n",
    "    loss = 0\n",
    "    \n",
    "    for i in range(len(train_x_embedded_input_tensor)):\n",
    "        data_input = train_x_embedded_input_tensor[i]\n",
    "        target = train_y_tensor[i]\n",
    "        \n",
    "        tag_scores = model(data_input)\n",
    "        optimizer.zero_grad()\n",
    "        \n",
    "        loss = loss_function(tag_scores,target) \n",
    "            \n",
    "        loss.backward()\n",
    "        optimizer.step()\n",
    "    \n",
    "    with torch.no_grad():\n",
    "        correct = 0\n",
    "\n",
    "        for i in range(len(test_x_embedded_input_tensor)):\n",
    "            data_input = test_x_embedded_input_tensor[i]\n",
    "            tag_scores = model(data_input)\n",
    "            predicted = torch.argmax(tag_scores[-1]).item()\n",
    "            target = test_y[i]\n",
    "            \n",
    "            if predicted == target:\n",
    "                correct += 1\n",
    "        \n",
    "        accuracy_test = correct/len(test_x_embedded_input)\n",
    "                \n",
    "        print(f\"Epoch {epoch+1} Accuracy test:  {accuracy_test}\")\n",
    "        \n",
    "        for point in points_to_embed:\n",
    "            point_embedding = model.get_word_embeddings()(torch.tensor(random_mapping[point]).to(device))    \n",
    "            embeddings[point][\"x\"].append(point_embedding[0].to('cpu').item())\n",
    "            embeddings[point][\"y\"].append(point_embedding[1].to('cpu').item())\n",
    "\n",
    "        if accuracy_test >= 0.65:\n",
    "            print(\"Accuracy reached 0.65; break\")\n",
    "            break\n",
    "            \n",
    "    scheduler.step()\n",
    "        "
   ]
  },
  {
   "cell_type": "code",
   "execution_count": 10,
   "metadata": {},
   "outputs": [
    {
     "data": {
      "image/png": "[encoded data removed]",
      "text/plain": [
       "<Figure size 432x288 with 1 Axes>"
      ]
     },
     "metadata": {
      "needs_background": "light"
     },
     "output_type": "display_data"
    }
   ],
   "source": [
    "import matplotlib.pyplot as plt\n",
    "\n",
    "epochs_length = len(embeddings[points_to_embed[0]][\"x\"])\n",
    "\n",
    "colors = ['r', 'g', 'b', 'y']\n",
    "\n",
    "for e in range(epochs_length):\n",
    "    for i,k in enumerate(embeddings.keys()):\n",
    "        x = [embeddings[k][\"x\"][e]]\n",
    "        y = [embeddings[k][\"y\"][e]]\n",
    "        plt.ylim(-3, 3)\n",
    "        plt.xlim(-3, 3)\n",
    "        plt.scatter(x, y, c=colors[i])\n",
    "        epoch_name = str(e) if e >= 10 else \"0\" + str(e)\n",
    "        filename='imgs2/epoch'+epoch_name+'.png'\n",
    "        plt.savefig(filename, dpi=96)"
   ]
  },
  {
   "cell_type": "markdown",
   "metadata": {},
   "source": [
    "<img src=\"imgs2/animated_embed.gif\" width=\"750\" align=\"center\">\n",
    "\n",
    "red - (0,1)\n",
    "green - (1,0)\n",
    "blue - (6,8)\n",
    "yellow - (7,9)"
   ]
  }
 ],
 "metadata": {
  "kernelspec": {
   "display_name": "Python 3",
   "language": "python",
   "name": "python3"
  },
  "language_info": {
   "codemirror_mode": {
    "name": "ipython",
    "version": 3
   },
   "file_extension": ".py",
   "mimetype": "text/x-python",
   "name": "python",
   "nbconvert_exporter": "python",
   "pygments_lexer": "ipython3",
   "version": "3.6.9"
  }
 },
 "nbformat": 4,
 "nbformat_minor": 4
}
